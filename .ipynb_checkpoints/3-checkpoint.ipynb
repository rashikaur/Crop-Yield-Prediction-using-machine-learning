{
 "cells": [
  {
   "cell_type": "markdown",
   "metadata": {},
   "source": [
    "# Machine Learning algorithms comparison"
   ]
  },
  {
   "cell_type": "markdown",
   "metadata": {},
   "source": [
    "## Imports"
   ]
  },
  {
   "cell_type": "code",
   "execution_count": 1,
   "metadata": {},
   "outputs": [],
   "source": [
    "import os\n",
    "import pickle\n",
    "import time\n",
    "import numpy as np\n",
    "import pandas as pd\n",
    "import matplotlib as mpl\n",
    "import matplotlib.pyplot as plt"
   ]
  },
  {
   "cell_type": "markdown",
   "metadata": {},
   "source": [
    "## Functions"
   ]
  },
  {
   "cell_type": "code",
   "execution_count": 2,
   "metadata": {},
   "outputs": [],
   "source": [
    "from sklearn.model_selection import learning_curve\n",
    "from sklearn.model_selection import ShuffleSplit\n",
    "\n",
    "def plot_learning_curve(estimator, title, X, y, ylim=None, cv=None,\n",
    "                        n_jobs=1, train_sizes=np.linspace(.1, 1.0, 5)):\n",
    "    plt.figure()\n",
    "    plt.title(title)\n",
    "    if ylim is not None:\n",
    "        plt.ylim(*ylim)\n",
    "    plt.xlabel(\"Training examples\")\n",
    "    plt.ylabel(\"Score\")\n",
    "    train_sizes, train_scores, test_scores = learning_curve(\n",
    "        estimator, X, y, cv=cv, n_jobs=n_jobs, train_sizes=train_sizes)\n",
    "    train_scores_mean = np.mean(train_scores, axis=1)\n",
    "    train_scores_std = np.std(train_scores, axis=1)\n",
    "    test_scores_mean = np.mean(test_scores, axis=1)\n",
    "    test_scores_std = np.std(test_scores, axis=1)\n",
    "    plt.grid()\n",
    "\n",
    "    plt.fill_between(train_sizes, train_scores_mean - train_scores_std,\n",
    "                     train_scores_mean + train_scores_std, alpha=0.1,\n",
    "                     color=\"r\")\n",
    "    plt.fill_between(train_sizes, test_scores_mean - test_scores_std,\n",
    "                     test_scores_mean + test_scores_std, alpha=0.1, color=\"g\")\n",
    "    plt.plot(train_sizes, train_scores_mean, 'o-', color=\"r\",\n",
    "             label=\"Training score\")\n",
    "    plt.plot(train_sizes, test_scores_mean, 'o-', color=\"g\",\n",
    "             label=\"Cross-validation score\")\n",
    "\n",
    "    \n",
    "    plt.legend(loc=\"best\")\n",
    "    return plt"
   ]
  },
  {
   "cell_type": "code",
   "execution_count": 3,
   "metadata": {},
   "outputs": [],
   "source": [
    "from sklearn.model_selection import learning_curve\n",
    "from sklearn.model_selection import ShuffleSplit\n",
    "\n",
    "def plot_learning_curve_ax(estimator, title, X, y, ylim=None, cv=None,\n",
    "                           n_jobs=1, train_sizes=np.linspace(.1, 1.0, 5), ax=None):\n",
    "    train_sizes, train_scores, test_scores = learning_curve(\n",
    "        estimator, X, y, cv=cv, n_jobs=n_jobs, train_sizes=train_sizes)\n",
    "    train_scores_mean = np.mean(train_scores, axis=1)\n",
    "    train_scores_std = np.std(train_scores, axis=1)\n",
    "    test_scores_mean = np.mean(test_scores, axis=1)\n",
    "    test_scores_std = np.std(test_scores, axis=1)\n",
    "    ln = ax.fill_between(train_sizes, train_scores_mean - train_scores_std,\n",
    "                         train_scores_mean + train_scores_std, alpha=0.1,\n",
    "                        color=\"r\")\n",
    "    ax.fill_between(train_sizes, test_scores_mean - test_scores_std,\n",
    "                     test_scores_mean + test_scores_std, alpha=0.1, color=\"g\")\n",
    "    ax.plot(train_sizes, train_scores_mean, 'o-', color=\"r\",\n",
    "             label=\"Training score\")\n",
    "    ax.plot(train_sizes, test_scores_mean, 'o-', color=\"g\",\n",
    "             label=\"Cross-validation score\")\n",
    "\n",
    "    ax.grid()\n",
    "    ax.set_title(title)\n",
    "    if ylim is not None:\n",
    "        ax.set_ylim(*ylim)\n",
    "    ax.set_xlabel(\"Training examples\")\n",
    "    ax.set_ylabel(\"Score\")\n",
    "\n",
    "    ax.legend(loc=\"best\")\n",
    "    return ln"
   ]
  },
  {
   "cell_type": "markdown",
   "metadata": {},
   "source": [
    "## Combining the datasets"
   ]
  },
  {
   "cell_type": "code",
   "execution_count": 4,
   "metadata": {},
   "outputs": [],
   "source": [
    "cwd = os.getcwd()\n",
    "df_2013 = pd.read_pickle(os.path.join(cwd,'data','df_2013_features.df'))\n",
    "df_2014 = pd.read_pickle(os.path.join(cwd,'data','df_2014_features.df'))"
   ]
  },
  {
   "cell_type": "code",
   "execution_count": 5,
   "metadata": {},
   "outputs": [],
   "source": [
    "# Combine data from both years\n",
    "df_all = pd.concat([df_2013,df_2014])"
   ]
  },
  {
   "cell_type": "code",
   "execution_count": 6,
   "metadata": {},
   "outputs": [
    {
     "data": {
      "text/html": [
       "<div>\n",
       "<style scoped>\n",
       "    .dataframe tbody tr th:only-of-type {\n",
       "        vertical-align: middle;\n",
       "    }\n",
       "\n",
       "    .dataframe tbody tr th {\n",
       "        vertical-align: top;\n",
       "    }\n",
       "\n",
       "    .dataframe thead th {\n",
       "        text-align: right;\n",
       "    }\n",
       "</style>\n",
       "<table border=\"1\" class=\"dataframe\">\n",
       "  <thead>\n",
       "    <tr style=\"text-align: right;\">\n",
       "      <th></th>\n",
       "      <th>longitude</th>\n",
       "      <th>latitude</th>\n",
       "      <th>temp_min</th>\n",
       "      <th>temp_max</th>\n",
       "      <th>NDVI</th>\n",
       "      <th>dewPoint</th>\n",
       "      <th>cloudCover</th>\n",
       "      <th>mean_wind_speed</th>\n",
       "      <th>visibility</th>\n",
       "      <th>pressure</th>\n",
       "      <th>humidity</th>\n",
       "      <th>windBearing</th>\n",
       "      <th>total_precipitation</th>\n",
       "      <th>yield</th>\n",
       "    </tr>\n",
       "  </thead>\n",
       "  <tbody>\n",
       "    <tr>\n",
       "      <th>0</th>\n",
       "      <td>-118.695237</td>\n",
       "      <td>46.811686</td>\n",
       "      <td>22.090000</td>\n",
       "      <td>62.033000</td>\n",
       "      <td>141.646755</td>\n",
       "      <td>29.563710</td>\n",
       "      <td>0.013118</td>\n",
       "      <td>5.298548</td>\n",
       "      <td>9.110323</td>\n",
       "      <td>1019.501398</td>\n",
       "      <td>0.648065</td>\n",
       "      <td>190.510753</td>\n",
       "      <td>9.982</td>\n",
       "      <td>35.7</td>\n",
       "    </tr>\n",
       "    <tr>\n",
       "      <th>1</th>\n",
       "      <td>-118.352109</td>\n",
       "      <td>46.929839</td>\n",
       "      <td>21.140909</td>\n",
       "      <td>60.183833</td>\n",
       "      <td>140.507124</td>\n",
       "      <td>28.856667</td>\n",
       "      <td>0.016667</td>\n",
       "      <td>5.594247</td>\n",
       "      <td>8.958817</td>\n",
       "      <td>1019.380914</td>\n",
       "      <td>0.665430</td>\n",
       "      <td>171.150538</td>\n",
       "      <td>12.312</td>\n",
       "      <td>35.7</td>\n",
       "    </tr>\n",
       "    <tr>\n",
       "      <th>2</th>\n",
       "      <td>-118.510160</td>\n",
       "      <td>47.006888</td>\n",
       "      <td>20.644545</td>\n",
       "      <td>59.363000</td>\n",
       "      <td>140.382297</td>\n",
       "      <td>27.633280</td>\n",
       "      <td>0.210054</td>\n",
       "      <td>6.132742</td>\n",
       "      <td>8.939194</td>\n",
       "      <td>1019.169731</td>\n",
       "      <td>0.665591</td>\n",
       "      <td>162.500000</td>\n",
       "      <td>13.750</td>\n",
       "      <td>35.7</td>\n",
       "    </tr>\n",
       "    <tr>\n",
       "      <th>3</th>\n",
       "      <td>-118.699677</td>\n",
       "      <td>47.162342</td>\n",
       "      <td>20.151818</td>\n",
       "      <td>59.682000</td>\n",
       "      <td>140.460301</td>\n",
       "      <td>27.493011</td>\n",
       "      <td>0.248817</td>\n",
       "      <td>6.120430</td>\n",
       "      <td>8.904409</td>\n",
       "      <td>1019.087473</td>\n",
       "      <td>0.660914</td>\n",
       "      <td>161.365591</td>\n",
       "      <td>12.934</td>\n",
       "      <td>35.7</td>\n",
       "    </tr>\n",
       "    <tr>\n",
       "      <th>4</th>\n",
       "      <td>-118.434056</td>\n",
       "      <td>47.157512</td>\n",
       "      <td>20.138182</td>\n",
       "      <td>58.143167</td>\n",
       "      <td>139.764175</td>\n",
       "      <td>27.082796</td>\n",
       "      <td>0.281505</td>\n",
       "      <td>6.055968</td>\n",
       "      <td>8.758548</td>\n",
       "      <td>1018.923817</td>\n",
       "      <td>0.671452</td>\n",
       "      <td>158.682796</td>\n",
       "      <td>16.644</td>\n",
       "      <td>35.7</td>\n",
       "    </tr>\n",
       "  </tbody>\n",
       "</table>\n",
       "</div>"
      ],
      "text/plain": [
       "    longitude   latitude   temp_min   temp_max        NDVI   dewPoint  \\\n",
       "0 -118.695237  46.811686  22.090000  62.033000  141.646755  29.563710   \n",
       "1 -118.352109  46.929839  21.140909  60.183833  140.507124  28.856667   \n",
       "2 -118.510160  47.006888  20.644545  59.363000  140.382297  27.633280   \n",
       "3 -118.699677  47.162342  20.151818  59.682000  140.460301  27.493011   \n",
       "4 -118.434056  47.157512  20.138182  58.143167  139.764175  27.082796   \n",
       "\n",
       "   cloudCover  mean_wind_speed  visibility     pressure  humidity  \\\n",
       "0    0.013118         5.298548    9.110323  1019.501398  0.648065   \n",
       "1    0.016667         5.594247    8.958817  1019.380914  0.665430   \n",
       "2    0.210054         6.132742    8.939194  1019.169731  0.665591   \n",
       "3    0.248817         6.120430    8.904409  1019.087473  0.660914   \n",
       "4    0.281505         6.055968    8.758548  1018.923817  0.671452   \n",
       "\n",
       "   windBearing  total_precipitation  yield  \n",
       "0   190.510753                9.982   35.7  \n",
       "1   171.150538               12.312   35.7  \n",
       "2   162.500000               13.750   35.7  \n",
       "3   161.365591               12.934   35.7  \n",
       "4   158.682796               16.644   35.7  "
      ]
     },
     "execution_count": 6,
     "metadata": {},
     "output_type": "execute_result"
    }
   ],
   "source": [
    "df_all.head()"
   ]
  },
  {
   "cell_type": "code",
   "execution_count": 7,
   "metadata": {},
   "outputs": [
    {
     "name": "stdout",
     "output_type": "stream",
     "text": [
      "2013 (955, 14)\n",
      "2014 (982, 14)\n",
      "Combined (1937, 14)\n"
     ]
    }
   ],
   "source": [
    "print('2013 {}'.format(df_2013.shape))\n",
    "print('2014 {}'.format(df_2014.shape))\n",
    "print('Combined {}'.format(df_all.shape))"
   ]
  },
  {
   "cell_type": "markdown",
   "metadata": {},
   "source": [
    "## Train-Test split"
   ]
  },
  {
   "cell_type": "code",
   "execution_count": 8,
   "metadata": {},
   "outputs": [],
   "source": [
    "from sklearn.model_selection import train_test_split\n",
    "y = df_all['yield']\n",
    "X = df_all.drop('yield',axis=1)\n",
    "X_train, X_test, y_train, y_test = train_test_split(X, y, test_size=0.1, random_state=42)"
   ]
  },
  {
   "cell_type": "markdown",
   "metadata": {},
   "source": [
    "## Feature scaling"
   ]
  },
  {
   "cell_type": "markdown",
   "metadata": {},
   "source": [
    "The dataset contains numerical features which are on very different scales. Set up a scaler to bring all features to zero mean and unity standard deviation. Later we need to apply the scaler also to the test set."
   ]
  },
  {
   "cell_type": "code",
   "execution_count": 9,
   "metadata": {},
   "outputs": [
    {
     "name": "stdout",
     "output_type": "stream",
     "text": [
      "['longitude', 'latitude', 'temp_min', 'temp_max', 'NDVI', 'dewPoint', 'cloudCover', 'mean_wind_speed', 'visibility', 'pressure', 'humidity', 'windBearing', 'total_precipitation']\n"
     ]
    },
    {
     "name": "stderr",
     "output_type": "stream",
     "text": [
      "C:\\Users\\Rashi\\Anaconda3\\lib\\site-packages\\ipykernel_launcher.py:10: SettingWithCopyWarning: \n",
      "A value is trying to be set on a copy of a slice from a DataFrame.\n",
      "Try using .loc[row_indexer,col_indexer] = value instead\n",
      "\n",
      "See the caveats in the documentation: http://pandas.pydata.org/pandas-docs/stable/indexing.html#indexing-view-versus-copy\n",
      "  # Remove the CWD from sys.path while we load stuff.\n",
      "C:\\Users\\Rashi\\Anaconda3\\lib\\site-packages\\pandas\\core\\frame.py:3395: SettingWithCopyWarning: \n",
      "A value is trying to be set on a copy of a slice from a DataFrame\n",
      "\n",
      "See the caveats in the documentation: http://pandas.pydata.org/pandas-docs/stable/indexing.html#indexing-view-versus-copy\n",
      "  self.loc._setitem_with_indexer((slice(None), indexer), value)\n",
      "C:\\Users\\Rashi\\Anaconda3\\lib\\site-packages\\pandas\\core\\frame.py:3367: SettingWithCopyWarning: \n",
      "A value is trying to be set on a copy of a slice from a DataFrame\n",
      "\n",
      "See the caveats in the documentation: http://pandas.pydata.org/pandas-docs/stable/indexing.html#indexing-view-versus-copy\n",
      "  self._setitem_array(key, value)\n",
      "C:\\Users\\Rashi\\Anaconda3\\lib\\site-packages\\ipykernel_launcher.py:11: SettingWithCopyWarning: \n",
      "A value is trying to be set on a copy of a slice from a DataFrame.\n",
      "Try using .loc[row_indexer,col_indexer] = value instead\n",
      "\n",
      "See the caveats in the documentation: http://pandas.pydata.org/pandas-docs/stable/indexing.html#indexing-view-versus-copy\n",
      "  # This is added back by InteractiveShellApp.init_path()\n",
      "C:\\Users\\Rashi\\Anaconda3\\lib\\site-packages\\pandas\\core\\frame.py:3395: SettingWithCopyWarning: \n",
      "A value is trying to be set on a copy of a slice from a DataFrame\n",
      "\n",
      "See the caveats in the documentation: http://pandas.pydata.org/pandas-docs/stable/indexing.html#indexing-view-versus-copy\n",
      "  self.loc._setitem_with_indexer((slice(None), indexer), value)\n",
      "C:\\Users\\Rashi\\Anaconda3\\lib\\site-packages\\pandas\\core\\frame.py:3367: SettingWithCopyWarning: \n",
      "A value is trying to be set on a copy of a slice from a DataFrame\n",
      "\n",
      "See the caveats in the documentation: http://pandas.pydata.org/pandas-docs/stable/indexing.html#indexing-view-versus-copy\n",
      "  self._setitem_array(key, value)\n"
     ]
    }
   ],
   "source": [
    "from sklearn import preprocessing\n",
    "columns_to_scale = df_all.columns.tolist()\n",
    "\n",
    "columns_to_scale = [x for x in columns_to_scale if x != 'yield']\n",
    "print(columns_to_scale)\n",
    "\n",
    "std_scaler = preprocessing.StandardScaler().fit(X_train[columns_to_scale])\n",
    "minmax_scaler = preprocessing.MinMaxScaler().fit(X_train)\n",
    "\n",
    "X_train[columns_to_scale] = std_scaler.transform(X_train[columns_to_scale])\n",
    "X_test[columns_to_scale] = std_scaler.transform(X_test[columns_to_scale])"
   ]
  },
  {
   "cell_type": "markdown",
   "metadata": {},
   "source": [
    "## Algorithms"
   ]
  },
  {
   "cell_type": "code",
   "execution_count": 10,
   "metadata": {},
   "outputs": [],
   "source": [
    "from sklearn.model_selection import cross_val_score\n",
    "cv_k = 5\n",
    "cv_scoring = 'neg_mean_squared_error'\n",
    "cv_scoring = 'r2'"
   ]
  },
  {
   "cell_type": "code",
   "execution_count": 11,
   "metadata": {},
   "outputs": [],
   "source": [
    "from sklearn.model_selection import KFold\n",
    "kf = KFold(n_splits=cv_k, shuffle=True)"
   ]
  },
  {
   "cell_type": "code",
   "execution_count": 12,
   "metadata": {},
   "outputs": [],
   "source": [
    "from sklearn import linear_model\n",
    "from sklearn.preprocessing import PolynomialFeatures\n",
    "from sklearn.ensemble import RandomForestRegressor\n",
    "from sklearn.ensemble import GradientBoostingRegressor\n",
    "from sklearn import neighbors\n",
    "from sklearn.svm import SVR"
   ]
  },
  {
   "cell_type": "code",
   "execution_count": 13,
   "metadata": {},
   "outputs": [
    {
     "name": "stdout",
     "output_type": "stream",
     "text": [
      "Accuracy: 0.8813 (+/- 0.0251)\n"
     ]
    }
   ],
   "source": [
    "# Random forest regression\n",
    "est = RandomForestRegressor(n_estimators=100, n_jobs=-1, max_features= 'sqrt')\n",
    "scores = cross_val_score(est, X_train, y_train, cv=kf, scoring=cv_scoring)\n",
    "print(\"Accuracy: %0.4f (+/- %0.4f)\" % (scores.mean(), scores.std() * 2))"
   ]
  },
  {
   "cell_type": "code",
   "execution_count": 14,
   "metadata": {},
   "outputs": [
    {
     "name": "stdout",
     "output_type": "stream",
     "text": [
      "Accuracy: 0.7966 (+/- 0.0537)\n"
     ]
    }
   ],
   "source": [
    "# Gradient boosted regression\n",
    "est = GradientBoostingRegressor(n_estimators=100, learning_rate=0.1,\n",
    "                                 random_state=0,loss='ls')\n",
    "scores = cross_val_score(est, X_train, y_train, cv=kf, scoring=cv_scoring)\n",
    "print(\"Accuracy: %0.4f (+/- %0.4f)\" % (scores.mean(), scores.std() * 2))"
   ]
  },
  {
   "cell_type": "code",
   "execution_count": 15,
   "metadata": {},
   "outputs": [
    {
     "name": "stdout",
     "output_type": "stream",
     "text": [
      "Accuracy: 0.82 (+/- 0.07)\n"
     ]
    }
   ],
   "source": [
    "# Nearest neighbor regression\n",
    "n_neighbors = 5\n",
    "weight = 'uniform' # 'distance'\n",
    "est = neighbors.KNeighborsRegressor(n_neighbors, weights=weight, n_jobs=-1)\n",
    "scores = cross_val_score(est, X_train, y_train, cv=kf, scoring=cv_scoring)\n",
    "print(\"Accuracy: %0.2f (+/- %0.2f)\" % (scores.mean(), scores.std() * 2))"
   ]
  },
  {
   "cell_type": "code",
   "execution_count": 16,
   "metadata": {},
   "outputs": [
    {
     "name": "stdout",
     "output_type": "stream",
     "text": [
      "Accuracy: 0.59 (+/- 0.02)\n"
     ]
    }
   ],
   "source": [
    "# Support vector regression - RBF kernel\n",
    "est = SVR(kernel='rbf', C=1, gamma=0.1)\n",
    "scores = cross_val_score(est, X_train, y_train, cv=kf, scoring=cv_scoring)\n",
    "print(\"Accuracy: %0.2f (+/- %0.2f)\" % (scores.mean(), scores.std() * 2))"
   ]
  },
  {
   "cell_type": "code",
   "execution_count": 17,
   "metadata": {},
   "outputs": [
    {
     "name": "stdout",
     "output_type": "stream",
     "text": [
      "Accuracy: 0.37 (+/- 0.09)\n"
     ]
    }
   ],
   "source": [
    "# Support vector regression - linear kernel\n",
    "est = SVR(kernel='linear', C=1)\n",
    "scores = cross_val_score(est, X_train, y_train, cv=kf, scoring=cv_scoring)\n",
    "print(\"Accuracy: %0.2f (+/- %0.2f)\" % (scores.mean(), scores.std() * 2))"
   ]
  },
  {
   "cell_type": "code",
   "execution_count": 18,
   "metadata": {},
   "outputs": [
    {
     "name": "stderr",
     "output_type": "stream",
     "text": [
      "C:\\Users\\Rashi\\Anaconda3\\lib\\site-packages\\sklearn\\svm\\base.py:193: FutureWarning: The default value of gamma will change from 'auto' to 'scale' in version 0.22 to account better for unscaled features. Set gamma explicitly to 'auto' or 'scale' to avoid this warning.\n",
      "  \"avoid this warning.\", FutureWarning)\n",
      "C:\\Users\\Rashi\\Anaconda3\\lib\\site-packages\\sklearn\\svm\\base.py:193: FutureWarning: The default value of gamma will change from 'auto' to 'scale' in version 0.22 to account better for unscaled features. Set gamma explicitly to 'auto' or 'scale' to avoid this warning.\n",
      "  \"avoid this warning.\", FutureWarning)\n",
      "C:\\Users\\Rashi\\Anaconda3\\lib\\site-packages\\sklearn\\svm\\base.py:193: FutureWarning: The default value of gamma will change from 'auto' to 'scale' in version 0.22 to account better for unscaled features. Set gamma explicitly to 'auto' or 'scale' to avoid this warning.\n",
      "  \"avoid this warning.\", FutureWarning)\n",
      "C:\\Users\\Rashi\\Anaconda3\\lib\\site-packages\\sklearn\\svm\\base.py:193: FutureWarning: The default value of gamma will change from 'auto' to 'scale' in version 0.22 to account better for unscaled features. Set gamma explicitly to 'auto' or 'scale' to avoid this warning.\n",
      "  \"avoid this warning.\", FutureWarning)\n",
      "C:\\Users\\Rashi\\Anaconda3\\lib\\site-packages\\sklearn\\svm\\base.py:193: FutureWarning: The default value of gamma will change from 'auto' to 'scale' in version 0.22 to account better for unscaled features. Set gamma explicitly to 'auto' or 'scale' to avoid this warning.\n",
      "  \"avoid this warning.\", FutureWarning)\n"
     ]
    },
    {
     "name": "stdout",
     "output_type": "stream",
     "text": [
      "Accuracy: 0.63 (+/- 0.05)\n"
     ]
    }
   ],
   "source": [
    "# Support vector regression - polynomial kernel\n",
    "est = SVR(kernel='poly', C=1e3, degree=2)\n",
    "scores = cross_val_score(est, X_train, y_train, cv=kf, scoring=cv_scoring)\n",
    "print(\"Accuracy: %0.2f (+/- %0.2f)\" % (scores.mean(), scores.std() * 2))"
   ]
  },
  {
   "cell_type": "markdown",
   "metadata": {},
   "source": [
    "Out of the bag, the random forest regressor performed the best, followed nearest neighbor regression, and L2 linear regression with polynomial features."
   ]
  },
  {
   "cell_type": "markdown",
   "metadata": {},
   "source": [
    "## Feature importance"
   ]
  },
  {
   "cell_type": "markdown",
   "metadata": {},
   "source": [
    "The tree-based ensemble methods allow easy access to the learned relative importance of the features."
   ]
  },
  {
   "cell_type": "code",
   "execution_count": 19,
   "metadata": {},
   "outputs": [
    {
     "name": "stdout",
     "output_type": "stream",
     "text": [
      "Accuracy: 0.8819 (+/- 0.0498)\n"
     ]
    },
    {
     "data": {
      "text/plain": [
       "RandomForestRegressor(bootstrap=True, criterion='mse', max_depth=None,\n",
       "                      max_features='sqrt', max_leaf_nodes=None,\n",
       "                      min_impurity_decrease=0.0, min_impurity_split=None,\n",
       "                      min_samples_leaf=1, min_samples_split=2,\n",
       "                      min_weight_fraction_leaf=0.0, n_estimators=100, n_jobs=-1,\n",
       "                      oob_score=False, random_state=None, verbose=0,\n",
       "                      warm_start=False)"
      ]
     },
     "execution_count": 19,
     "metadata": {},
     "output_type": "execute_result"
    }
   ],
   "source": [
    "X_train_rf = X_train.copy()\n",
    "y_train_rf = y_train.copy()\n",
    "now = time.time()\n",
    "est = RandomForestRegressor(n_estimators=100, n_jobs=-1,  max_features= 'sqrt')\n",
    "scores = cross_val_score(est, X_train_rf, y_train_rf, cv=kf, scoring=cv_scoring)\n",
    "print(\"Accuracy: %0.4f (+/- %0.4f)\" % (scores.mean(), scores.std() * 2))\n",
    "est.fit(X_train_rf, y_train_rf)"
   ]
  },
  {
   "cell_type": "code",
   "execution_count": 20,
   "metadata": {},
   "outputs": [
    {
     "data": {
      "text/plain": [
       "array([0.1661216 , 0.10393892, 0.07065054, 0.07436848, 0.10724228,\n",
       "       0.05095401, 0.03781654, 0.04964255, 0.04932127, 0.10006663,\n",
       "       0.09761695, 0.06431299, 0.02794725])"
      ]
     },
     "execution_count": 20,
     "metadata": {},
     "output_type": "execute_result"
    }
   ],
   "source": [
    "feature_importance = est.feature_importances_\n",
    "feature_importance"
   ]
  },
  {
   "cell_type": "code",
   "execution_count": 21,
   "metadata": {},
   "outputs": [
    {
     "data": {
      "image/png": "[encoded data removed]",
      "text/plain": [
       "<Figure size 720x720 with 1 Axes>"
      ]
     },
     "metadata": {
      "needs_background": "light"
     },
     "output_type": "display_data"
    },
    {
     "data": {
      "text/plain": [
       "<Figure size 432x288 with 0 Axes>"
      ]
     },
     "metadata": {},
     "output_type": "display_data"
    }
   ],
   "source": [
    "fig, ax = plt.subplots(figsize=(10, 10))\n",
    "\n",
    "feature_importance = est.feature_importances_\n",
    "sorted_idx = np.argsort(feature_importance)\n",
    "pos = np.arange(sorted_idx.shape[0]) + .5\n",
    "plt.barh(pos, feature_importance[sorted_idx], align='center', color='g',alpha=0.75)\n",
    "plt.yticks(pos, np.array(X_train_rf.columns)[sorted_idx])\n",
    "plt.xlabel('Importance', fontsize=18)\n",
    "plt.title('Feature Importance', fontsize=18)\n",
    "ax.tick_params(labelsize=18)\n",
    "plt.show()\n",
    "plt.savefig(os.path.join(cwd,'images','features.png'))"
   ]
  },
  {
   "cell_type": "markdown",
   "metadata": {},
   "source": [
    "## Testing the performance of the tuned model"
   ]
  },
  {
   "cell_type": "code",
   "execution_count": 22,
   "metadata": {},
   "outputs": [
    {
     "data": {
      "image/png": "[encoded data removed]",
      "text/plain": [
       "<Figure size 720x720 with 1 Axes>"
      ]
     },
     "metadata": {
      "needs_background": "light"
     },
     "output_type": "display_data"
    }
   ],
   "source": [
    "X, y = X_train, y_train\n",
    "est = RandomForestRegressor(n_estimators=200, n_jobs=-1, max_features= 'sqrt', \n",
    "                            min_samples_split=10, min_samples_leaf = 2, max_depth=7 )\n",
    "\n",
    "\n",
    "est.fit(X_train, y_train)\n",
    "y_pred = est.predict(X_test)\n",
    "\n",
    "fig, ax = plt.subplots(figsize=(10, 10))\n",
    "\n",
    "\n",
    "plt.scatter(y_test,y_pred, color='green')\n",
    "plt.plot([0,80],[0,80],'--', color='k')\n",
    "ax.set_xlim(0,80)\n",
    "ax.set_ylim(0,80)\n",
    "\n",
    "ax.set_title('Model performance',fontsize=18)\n",
    "# ax.xlabels().set_fontsize(20)\n",
    "ax.set_xlabel('Observed yield', fontsize=18)\n",
    "ax.set_ylabel('Predicted yield', fontsize=18)\n",
    "ax.tick_params(labelsize=18)\n",
    "\n",
    "ratio_gbt = y_test/y_pred\n",
    "plt.savefig(os.path.join(cwd,'images','model_performance.png'), bbox_inches='tight')"
   ]
  },
  {
   "cell_type": "code",
   "execution_count": 23,
   "metadata": {},
   "outputs": [
    {
     "name": "stdout",
     "output_type": "stream",
     "text": [
      "Actual: \n",
      "582    17.3\n",
      "901    42.8\n",
      "907    36.9\n",
      "799    43.1\n",
      "509    30.0\n",
      "280    35.8\n",
      "644    27.7\n",
      "855    23.9\n",
      "276    35.8\n",
      "926    31.9\n",
      "Name: yield, dtype: float64\n",
      "predicted:\n",
      "[17.    41.083 32.965 42.556 43.366 21.118 37.179 26.221 14.845 36.644]\n"
     ]
    }
   ],
   "source": [
    "X, y = X_train, y_train\n",
    "est = RandomForestRegressor(n_estimators=100, n_jobs=-1, max_features= 'sqrt')\n",
    "\n",
    "\n",
    "est.fit(X_train, y_train)\n",
    "y_pred = est.predict(X_test)\n",
    "print(\"Actual: \")\n",
    "print(y_test[:10])\n",
    "print(\"predicted:\")\n",
    "print(y_pred[:10])"
   ]
  },
  {
   "cell_type": "code",
   "execution_count": 24,
   "metadata": {},
   "outputs": [
    {
     "name": "stdout",
     "output_type": "stream",
     "text": [
      "[33.882]\n"
     ]
    }
   ],
   "source": [
    "X, y = X_train, y_train\n",
    "est = RandomForestRegressor(n_estimators=100, n_jobs=-1, max_features= 'sqrt')\n",
    "\n",
    "\n",
    "est.fit(X_train, y_train)\n",
    "x_new = pd.DataFrame({'longitude':46.9298391 , 'latitude': 46.811686, 'temp_min':22.090000 ,'temp_max':62.033000, 'NDVI':141.646755, 'dewPoint':29.563710, 'cloudCover':0.013118, 'mean_wind_speed':5.298548, 'visibility':9.110323, 'pressure':1019.501398, 'humidity':0.648065, 'windBearing':190.510753, 'total_precipitation':9.982},index =[0])\n",
    "\n",
    "std_scaler = preprocessing.StandardScaler().fit(x_new)\n",
    "minmax_scaler = preprocessing.MinMaxScaler().fit(x_new)\n",
    "\n",
    "x_new = std_scaler.transform(x_new)\n",
    "\n",
    "y_pred = est.predict(x_new)\n",
    "print(y_pred)"
   ]
  }
 ],
 "metadata": {
  "kernelspec": {
   "display_name": "Python 3",
   "language": "python",
   "name": "python3"
  },
  "language_info": {
   "codemirror_mode": {
    "name": "ipython",
    "version": 3
   },
   "file_extension": ".py",
   "mimetype": "text/x-python",
   "name": "python",
   "nbconvert_exporter": "python",
   "pygments_lexer": "ipython3",
   "version": "3.7.3"
  }
 },
 "nbformat": 4,
 "nbformat_minor": 1
}
